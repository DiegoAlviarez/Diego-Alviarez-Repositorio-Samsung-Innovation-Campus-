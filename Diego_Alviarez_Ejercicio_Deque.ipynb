{
  "nbformat": 4,
  "nbformat_minor": 0,
  "metadata": {
    "colab": {
      "provenance": []
    },
    "kernelspec": {
      "name": "python3",
      "display_name": "Python 3"
    },
    "language_info": {
      "name": "python"
    }
  },
  "cells": [
    {
      "cell_type": "code",
      "execution_count": 11,
      "metadata": {
        "colab": {
          "base_uri": "https://localhost:8080/"
        },
        "id": "LFqN3Xo3PjxR",
        "outputId": "86e127c4-91ef-4278-d543-4c4b084a66bd"
      },
      "outputs": [
        {
          "output_type": "stream",
          "name": "stdout",
          "text": [
            "Valores internos del deque: ['elemen', 12, 3, 4]\n",
            "Después de agregar al inicio: Valores internos del deque: ['Diego', 'elemen', 12, 3, 4]\n",
            "Después de agregar al final: Valores internos del deque: ['Diego', 'elemen', 12, 3, 4, 'Alviarez']\n",
            "Elemento removido del inicio: Diego\n",
            "Después de remover del inicio: Valores internos del deque: ['elemen', 12, 3, 4, 'Alviarez']\n",
            "Elemento removido del final: Alviarez\n",
            "Después de remover del final: Valores internos del deque: ['elemen', 12, 3, 4]\n"
          ]
        }
      ],
      "source": [
        "class Deque:\n",
        "    def __init__(self):\n",
        "        self.__deque = [\"elemen\", 12, 3, 4]\n",
        "\n",
        "    def __str__(self):\n",
        "        return f'Valores internos del deque: {self.__deque}'\n",
        "\n",
        "    def add_first(self, item):\n",
        "        \"\"\"Agregar un elemento a la parte inicial del deque.\"\"\"\n",
        "        self.__deque.insert(0, item)\n",
        "\n",
        "    def remove_first(self):\n",
        "        \"\"\"Remover y retornar un elemento de la parte inicial del deque.\"\"\"\n",
        "        return None if not self.__deque else self.__deque.pop(0)\n",
        "\n",
        "    def add_last(self, item):\n",
        "        \"\"\"Agregar un elemento a la parte final del deque.\"\"\"\n",
        "        self.__deque.append(item)\n",
        "\n",
        "    def remove_last(self):\n",
        "        \"\"\"Remover y retornar un elemento de la parte final del deque.\"\"\"\n",
        "        return None if not self.__deque else self.__deque.pop()\n",
        "\n",
        "# Crear una instancia de Deque\n",
        "mi_deque = Deque()\n",
        "\n",
        "# Mostrar el estado inicial del deque\n",
        "print(mi_deque)\n",
        "\n",
        "# Agregar elementos al inicio y al final\n",
        "mi_deque.add_first(\"Diego\")\n",
        "print(\"Después de agregar al inicio:\", mi_deque)\n",
        "\n",
        "mi_deque.add_last(\"Alviarez\")\n",
        "print(\"Después de agregar al final:\", mi_deque)\n",
        "\n",
        "# Remover elementos del inicio y del final\n",
        "elemento_removido_inicio = mi_deque.remove_first()\n",
        "print(\"Elemento removido del inicio:\", elemento_removido_inicio)\n",
        "print(\"Después de remover del inicio:\", mi_deque)\n",
        "\n",
        "elemento_removido_final = mi_deque.remove_last()\n",
        "print(\"Elemento removido del final:\", elemento_removido_final)\n",
        "print(\"Después de remover del final:\", mi_deque)\n"
      ]
    }
  ]
}